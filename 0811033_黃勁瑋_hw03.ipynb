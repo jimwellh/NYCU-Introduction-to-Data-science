{
  "nbformat": 4,
  "nbformat_minor": 0,
  "metadata": {
    "colab": {
      "provenance": [],
      "authorship_tag": "ABX9TyNTPKSjrrBykL4qvfKMmoze",
      "include_colab_link": true
    },
    "kernelspec": {
      "name": "python3",
      "display_name": "Python 3"
    },
    "language_info": {
      "name": "python"
    }
  },
  "cells": [
    {
      "cell_type": "markdown",
      "metadata": {
        "id": "view-in-github",
        "colab_type": "text"
      },
      "source": [
        "<a href=\"https://colab.research.google.com/github/jimwellh/NYCU-Introduction-to-Data-science/blob/main/0811033_%E9%BB%83%E5%8B%81%E7%91%8B_hw03.ipynb\" target=\"_parent\"><img src=\"https://colab.research.google.com/assets/colab-badge.svg\" alt=\"Open In Colab\"/></a>"
      ]
    },
    {
      "cell_type": "markdown",
      "source": [
        "# **Introduction to Data Science** Homework 3\n",
        "0811033_黃勁瑋_hw02\\\n",
        "2023/10/9\n",
        "\n",
        "\n",
        "*   Use R, Python, and suitable computer packages to analyze the data set with missing data\n",
        "(NA) that you select.\n",
        "*   Try to solve the issues of missing values and the other types of data\n",
        "impurities.\n",
        "*   Use Different Types of Data Imputation Methods for handling missing data in your\n",
        "datasets.\n",
        "*   Explain the results you obtain\n",
        "*   Discuss possible problems you plan to investigate for future studies\n",
        "\n"
      ],
      "metadata": {
        "id": "TZtvXRX9O69Z"
      }
    },
    {
      "cell_type": "markdown",
      "source": [
        "In this homework, the same \"Electric Power Consumption\" dataset from the previous homework is used. The data originally has a Kaggle uability score of 10.00. However, to complete this homework, I manually delete some values in the dataset and try to fill out the blank values using several different methods. The result is then compared with the original value to discuss which data cleanning method is more sutiable for this data.  "
      ],
      "metadata": {
        "id": "Pb41qArtQUjx"
      }
    },
    {
      "cell_type": "markdown",
      "source": [
        "**Import data and necessary libaries**"
      ],
      "metadata": {
        "id": "rhpJQwg2S3T-"
      }
    },
    {
      "cell_type": "code",
      "execution_count": null,
      "metadata": {
        "colab": {
          "base_uri": "https://localhost:8080/"
        },
        "id": "_wm5FFbiO5tY",
        "outputId": "354af11b-5cb5-46b2-e2fd-4e0f8208bf6d"
      },
      "outputs": [
        {
          "output_type": "stream",
          "name": "stdout",
          "text": [
            "Drive already mounted at /content/drive; to attempt to forcibly remount, call drive.mount(\"/content/drive\", force_remount=True).\n",
            "        Datetime  Temperature  Humidity  WindSpeed  GeneralDiffuseFlows  \\\n",
            "0  1/1/2017 0:00        6.559      73.8      0.083                0.051   \n",
            "1  1/1/2017 0:10        6.414      74.5      0.083                0.070   \n",
            "2  1/1/2017 0:20        6.313      74.5      0.080                0.062   \n",
            "3  1/1/2017 0:30        6.121      75.0      0.083                0.091   \n",
            "4  1/1/2017 0:40        5.921      75.7      0.081                0.048   \n",
            "5  1/1/2017 0:50        5.853      76.9      0.081                0.059   \n",
            "6  1/1/2017 1:00        5.641      77.7      0.080                0.048   \n",
            "7  1/1/2017 1:10        5.496      78.2      0.085                0.055   \n",
            "8  1/1/2017 1:20        5.678      78.1      0.081                0.066   \n",
            "9  1/1/2017 1:30        5.491      77.3      0.082                0.062   \n",
            "\n",
            "   DiffuseFlows  PowerConsumption_Zone1  PowerConsumption_Zone2  \\\n",
            "0         0.119             34055.69620             16128.87538   \n",
            "1         0.085             29814.68354             19375.07599   \n",
            "2         0.100             29128.10127             19006.68693   \n",
            "3         0.096             28228.86076             18361.09422   \n",
            "4         0.085             27335.69620             17872.34043   \n",
            "5         0.108             26624.81013             17416.41337   \n",
            "6         0.096             25998.98734             16993.31307   \n",
            "7         0.093             25446.07595             16661.39818   \n",
            "8         0.141             24777.72152             16227.35562   \n",
            "9         0.111             24279.49367             15939.20973   \n",
            "\n",
            "   PowerConsumption_Zone3  \n",
            "0             20240.96386  \n",
            "1             20131.08434  \n",
            "2             19668.43373  \n",
            "3             18899.27711  \n",
            "4             18442.40964  \n",
            "5             18130.12048  \n",
            "6             17945.06024  \n",
            "7             17459.27711  \n",
            "8             17025.54217  \n",
            "9             16794.21687  \n",
            "(52416, 9)\n"
          ]
        }
      ],
      "source": [
        "from google.colab import drive\n",
        "drive.mount('/content/drive')\n",
        "import numpy as np\n",
        "import pandas as pd\n",
        "import matplotlib.pyplot as plt\n",
        "#import pandas_profiling\n",
        "import seaborn as sns\n",
        "import os\n",
        "data = pd.read_csv('/content/drive/MyDrive/Introduction to Data science/Data sets/powerconsumption.csv')\n",
        "#check is the data is read successfully\n",
        "print(data.head(10))\n",
        "print(data.shape)"
      ]
    },
    {
      "cell_type": "markdown",
      "source": [
        "**Check if exist outlier**"
      ],
      "metadata": {
        "id": "tYrqeRT0eDMi"
      }
    },
    {
      "cell_type": "markdown",
      "source": [
        "The variables in that datasets have physical meanings, so using physical limits to check outliers may be a good approach for this homework."
      ],
      "metadata": {
        "id": "X3wN_3jxu43Z"
      }
    },
    {
      "cell_type": "code",
      "source": [
        "data.describe()"
      ],
      "metadata": {
        "colab": {
          "base_uri": "https://localhost:8080/",
          "height": 300
        },
        "id": "6gK0amayh_H2",
        "outputId": "5299bf2e-2af0-4c4a-9098-697354267edc"
      },
      "execution_count": null,
      "outputs": [
        {
          "output_type": "execute_result",
          "data": {
            "text/plain": [
              "        Temperature      Humidity     WindSpeed  GeneralDiffuseFlows  \\\n",
              "count  52416.000000  52416.000000  52416.000000         52416.000000   \n",
              "mean      18.810024     68.259518      1.959489           182.696614   \n",
              "std        5.815476     15.551177      2.348862           264.400960   \n",
              "min        3.247000     11.340000      0.050000             0.004000   \n",
              "25%       14.410000     58.310000      0.078000             0.062000   \n",
              "50%       18.780000     69.860000      0.086000             5.035500   \n",
              "75%       22.890000     81.400000      4.915000           319.600000   \n",
              "max       40.010000     94.800000      6.483000          1163.000000   \n",
              "\n",
              "       DiffuseFlows  PowerConsumption_Zone1  PowerConsumption_Zone2  \\\n",
              "count  52416.000000            52416.000000            52416.000000   \n",
              "mean      75.028022            32344.970564            21042.509082   \n",
              "std      124.210949             7130.562564             5201.465892   \n",
              "min        0.011000            13895.696200             8560.081466   \n",
              "25%        0.122000            26310.668692            16980.766032   \n",
              "50%        4.456000            32265.920340            20823.168405   \n",
              "75%      101.000000            37309.018185            24713.717520   \n",
              "max      936.000000            52204.395120            37408.860760   \n",
              "\n",
              "       PowerConsumption_Zone3  \n",
              "count            52416.000000  \n",
              "mean             17835.406218  \n",
              "std               6622.165099  \n",
              "min               5935.174070  \n",
              "25%              13129.326630  \n",
              "50%              16415.117470  \n",
              "75%              21624.100420  \n",
              "max              47598.326360  "
            ],
            "text/html": [
              "\n",
              "  <div id=\"df-0053ae1a-7320-4f33-8163-a55ff94114bd\" class=\"colab-df-container\">\n",
              "    <div>\n",
              "<style scoped>\n",
              "    .dataframe tbody tr th:only-of-type {\n",
              "        vertical-align: middle;\n",
              "    }\n",
              "\n",
              "    .dataframe tbody tr th {\n",
              "        vertical-align: top;\n",
              "    }\n",
              "\n",
              "    .dataframe thead th {\n",
              "        text-align: right;\n",
              "    }\n",
              "</style>\n",
              "<table border=\"1\" class=\"dataframe\">\n",
              "  <thead>\n",
              "    <tr style=\"text-align: right;\">\n",
              "      <th></th>\n",
              "      <th>Temperature</th>\n",
              "      <th>Humidity</th>\n",
              "      <th>WindSpeed</th>\n",
              "      <th>GeneralDiffuseFlows</th>\n",
              "      <th>DiffuseFlows</th>\n",
              "      <th>PowerConsumption_Zone1</th>\n",
              "      <th>PowerConsumption_Zone2</th>\n",
              "      <th>PowerConsumption_Zone3</th>\n",
              "    </tr>\n",
              "  </thead>\n",
              "  <tbody>\n",
              "    <tr>\n",
              "      <th>count</th>\n",
              "      <td>52416.000000</td>\n",
              "      <td>52416.000000</td>\n",
              "      <td>52416.000000</td>\n",
              "      <td>52416.000000</td>\n",
              "      <td>52416.000000</td>\n",
              "      <td>52416.000000</td>\n",
              "      <td>52416.000000</td>\n",
              "      <td>52416.000000</td>\n",
              "    </tr>\n",
              "    <tr>\n",
              "      <th>mean</th>\n",
              "      <td>18.810024</td>\n",
              "      <td>68.259518</td>\n",
              "      <td>1.959489</td>\n",
              "      <td>182.696614</td>\n",
              "      <td>75.028022</td>\n",
              "      <td>32344.970564</td>\n",
              "      <td>21042.509082</td>\n",
              "      <td>17835.406218</td>\n",
              "    </tr>\n",
              "    <tr>\n",
              "      <th>std</th>\n",
              "      <td>5.815476</td>\n",
              "      <td>15.551177</td>\n",
              "      <td>2.348862</td>\n",
              "      <td>264.400960</td>\n",
              "      <td>124.210949</td>\n",
              "      <td>7130.562564</td>\n",
              "      <td>5201.465892</td>\n",
              "      <td>6622.165099</td>\n",
              "    </tr>\n",
              "    <tr>\n",
              "      <th>min</th>\n",
              "      <td>3.247000</td>\n",
              "      <td>11.340000</td>\n",
              "      <td>0.050000</td>\n",
              "      <td>0.004000</td>\n",
              "      <td>0.011000</td>\n",
              "      <td>13895.696200</td>\n",
              "      <td>8560.081466</td>\n",
              "      <td>5935.174070</td>\n",
              "    </tr>\n",
              "    <tr>\n",
              "      <th>25%</th>\n",
              "      <td>14.410000</td>\n",
              "      <td>58.310000</td>\n",
              "      <td>0.078000</td>\n",
              "      <td>0.062000</td>\n",
              "      <td>0.122000</td>\n",
              "      <td>26310.668692</td>\n",
              "      <td>16980.766032</td>\n",
              "      <td>13129.326630</td>\n",
              "    </tr>\n",
              "    <tr>\n",
              "      <th>50%</th>\n",
              "      <td>18.780000</td>\n",
              "      <td>69.860000</td>\n",
              "      <td>0.086000</td>\n",
              "      <td>5.035500</td>\n",
              "      <td>4.456000</td>\n",
              "      <td>32265.920340</td>\n",
              "      <td>20823.168405</td>\n",
              "      <td>16415.117470</td>\n",
              "    </tr>\n",
              "    <tr>\n",
              "      <th>75%</th>\n",
              "      <td>22.890000</td>\n",
              "      <td>81.400000</td>\n",
              "      <td>4.915000</td>\n",
              "      <td>319.600000</td>\n",
              "      <td>101.000000</td>\n",
              "      <td>37309.018185</td>\n",
              "      <td>24713.717520</td>\n",
              "      <td>21624.100420</td>\n",
              "    </tr>\n",
              "    <tr>\n",
              "      <th>max</th>\n",
              "      <td>40.010000</td>\n",
              "      <td>94.800000</td>\n",
              "      <td>6.483000</td>\n",
              "      <td>1163.000000</td>\n",
              "      <td>936.000000</td>\n",
              "      <td>52204.395120</td>\n",
              "      <td>37408.860760</td>\n",
              "      <td>47598.326360</td>\n",
              "    </tr>\n",
              "  </tbody>\n",
              "</table>\n",
              "</div>\n",
              "    <div class=\"colab-df-buttons\">\n",
              "\n",
              "  <div class=\"colab-df-container\">\n",
              "    <button class=\"colab-df-convert\" onclick=\"convertToInteractive('df-0053ae1a-7320-4f33-8163-a55ff94114bd')\"\n",
              "            title=\"Convert this dataframe to an interactive table.\"\n",
              "            style=\"display:none;\">\n",
              "\n",
              "  <svg xmlns=\"http://www.w3.org/2000/svg\" height=\"24px\" viewBox=\"0 -960 960 960\">\n",
              "    <path d=\"M120-120v-720h720v720H120Zm60-500h600v-160H180v160Zm220 220h160v-160H400v160Zm0 220h160v-160H400v160ZM180-400h160v-160H180v160Zm440 0h160v-160H620v160ZM180-180h160v-160H180v160Zm440 0h160v-160H620v160Z\"/>\n",
              "  </svg>\n",
              "    </button>\n",
              "\n",
              "  <style>\n",
              "    .colab-df-container {\n",
              "      display:flex;\n",
              "      gap: 12px;\n",
              "    }\n",
              "\n",
              "    .colab-df-convert {\n",
              "      background-color: #E8F0FE;\n",
              "      border: none;\n",
              "      border-radius: 50%;\n",
              "      cursor: pointer;\n",
              "      display: none;\n",
              "      fill: #1967D2;\n",
              "      height: 32px;\n",
              "      padding: 0 0 0 0;\n",
              "      width: 32px;\n",
              "    }\n",
              "\n",
              "    .colab-df-convert:hover {\n",
              "      background-color: #E2EBFA;\n",
              "      box-shadow: 0px 1px 2px rgba(60, 64, 67, 0.3), 0px 1px 3px 1px rgba(60, 64, 67, 0.15);\n",
              "      fill: #174EA6;\n",
              "    }\n",
              "\n",
              "    .colab-df-buttons div {\n",
              "      margin-bottom: 4px;\n",
              "    }\n",
              "\n",
              "    [theme=dark] .colab-df-convert {\n",
              "      background-color: #3B4455;\n",
              "      fill: #D2E3FC;\n",
              "    }\n",
              "\n",
              "    [theme=dark] .colab-df-convert:hover {\n",
              "      background-color: #434B5C;\n",
              "      box-shadow: 0px 1px 3px 1px rgba(0, 0, 0, 0.15);\n",
              "      filter: drop-shadow(0px 1px 2px rgba(0, 0, 0, 0.3));\n",
              "      fill: #FFFFFF;\n",
              "    }\n",
              "  </style>\n",
              "\n",
              "    <script>\n",
              "      const buttonEl =\n",
              "        document.querySelector('#df-0053ae1a-7320-4f33-8163-a55ff94114bd button.colab-df-convert');\n",
              "      buttonEl.style.display =\n",
              "        google.colab.kernel.accessAllowed ? 'block' : 'none';\n",
              "\n",
              "      async function convertToInteractive(key) {\n",
              "        const element = document.querySelector('#df-0053ae1a-7320-4f33-8163-a55ff94114bd');\n",
              "        const dataTable =\n",
              "          await google.colab.kernel.invokeFunction('convertToInteractive',\n",
              "                                                    [key], {});\n",
              "        if (!dataTable) return;\n",
              "\n",
              "        const docLinkHtml = 'Like what you see? Visit the ' +\n",
              "          '<a target=\"_blank\" href=https://colab.research.google.com/notebooks/data_table.ipynb>data table notebook</a>'\n",
              "          + ' to learn more about interactive tables.';\n",
              "        element.innerHTML = '';\n",
              "        dataTable['output_type'] = 'display_data';\n",
              "        await google.colab.output.renderOutput(dataTable, element);\n",
              "        const docLink = document.createElement('div');\n",
              "        docLink.innerHTML = docLinkHtml;\n",
              "        element.appendChild(docLink);\n",
              "      }\n",
              "    </script>\n",
              "  </div>\n",
              "\n",
              "\n",
              "<div id=\"df-58abc1f6-c549-4e23-beca-41a914a571ed\">\n",
              "  <button class=\"colab-df-quickchart\" onclick=\"quickchart('df-58abc1f6-c549-4e23-beca-41a914a571ed')\"\n",
              "            title=\"Suggest charts.\"\n",
              "            style=\"display:none;\">\n",
              "\n",
              "<svg xmlns=\"http://www.w3.org/2000/svg\" height=\"24px\"viewBox=\"0 0 24 24\"\n",
              "     width=\"24px\">\n",
              "    <g>\n",
              "        <path d=\"M19 3H5c-1.1 0-2 .9-2 2v14c0 1.1.9 2 2 2h14c1.1 0 2-.9 2-2V5c0-1.1-.9-2-2-2zM9 17H7v-7h2v7zm4 0h-2V7h2v10zm4 0h-2v-4h2v4z\"/>\n",
              "    </g>\n",
              "</svg>\n",
              "  </button>\n",
              "\n",
              "<style>\n",
              "  .colab-df-quickchart {\n",
              "      --bg-color: #E8F0FE;\n",
              "      --fill-color: #1967D2;\n",
              "      --hover-bg-color: #E2EBFA;\n",
              "      --hover-fill-color: #174EA6;\n",
              "      --disabled-fill-color: #AAA;\n",
              "      --disabled-bg-color: #DDD;\n",
              "  }\n",
              "\n",
              "  [theme=dark] .colab-df-quickchart {\n",
              "      --bg-color: #3B4455;\n",
              "      --fill-color: #D2E3FC;\n",
              "      --hover-bg-color: #434B5C;\n",
              "      --hover-fill-color: #FFFFFF;\n",
              "      --disabled-bg-color: #3B4455;\n",
              "      --disabled-fill-color: #666;\n",
              "  }\n",
              "\n",
              "  .colab-df-quickchart {\n",
              "    background-color: var(--bg-color);\n",
              "    border: none;\n",
              "    border-radius: 50%;\n",
              "    cursor: pointer;\n",
              "    display: none;\n",
              "    fill: var(--fill-color);\n",
              "    height: 32px;\n",
              "    padding: 0;\n",
              "    width: 32px;\n",
              "  }\n",
              "\n",
              "  .colab-df-quickchart:hover {\n",
              "    background-color: var(--hover-bg-color);\n",
              "    box-shadow: 0 1px 2px rgba(60, 64, 67, 0.3), 0 1px 3px 1px rgba(60, 64, 67, 0.15);\n",
              "    fill: var(--button-hover-fill-color);\n",
              "  }\n",
              "\n",
              "  .colab-df-quickchart-complete:disabled,\n",
              "  .colab-df-quickchart-complete:disabled:hover {\n",
              "    background-color: var(--disabled-bg-color);\n",
              "    fill: var(--disabled-fill-color);\n",
              "    box-shadow: none;\n",
              "  }\n",
              "\n",
              "  .colab-df-spinner {\n",
              "    border: 2px solid var(--fill-color);\n",
              "    border-color: transparent;\n",
              "    border-bottom-color: var(--fill-color);\n",
              "    animation:\n",
              "      spin 1s steps(1) infinite;\n",
              "  }\n",
              "\n",
              "  @keyframes spin {\n",
              "    0% {\n",
              "      border-color: transparent;\n",
              "      border-bottom-color: var(--fill-color);\n",
              "      border-left-color: var(--fill-color);\n",
              "    }\n",
              "    20% {\n",
              "      border-color: transparent;\n",
              "      border-left-color: var(--fill-color);\n",
              "      border-top-color: var(--fill-color);\n",
              "    }\n",
              "    30% {\n",
              "      border-color: transparent;\n",
              "      border-left-color: var(--fill-color);\n",
              "      border-top-color: var(--fill-color);\n",
              "      border-right-color: var(--fill-color);\n",
              "    }\n",
              "    40% {\n",
              "      border-color: transparent;\n",
              "      border-right-color: var(--fill-color);\n",
              "      border-top-color: var(--fill-color);\n",
              "    }\n",
              "    60% {\n",
              "      border-color: transparent;\n",
              "      border-right-color: var(--fill-color);\n",
              "    }\n",
              "    80% {\n",
              "      border-color: transparent;\n",
              "      border-right-color: var(--fill-color);\n",
              "      border-bottom-color: var(--fill-color);\n",
              "    }\n",
              "    90% {\n",
              "      border-color: transparent;\n",
              "      border-bottom-color: var(--fill-color);\n",
              "    }\n",
              "  }\n",
              "</style>\n",
              "\n",
              "  <script>\n",
              "    async function quickchart(key) {\n",
              "      const quickchartButtonEl =\n",
              "        document.querySelector('#' + key + ' button');\n",
              "      quickchartButtonEl.disabled = true;  // To prevent multiple clicks.\n",
              "      quickchartButtonEl.classList.add('colab-df-spinner');\n",
              "      try {\n",
              "        const charts = await google.colab.kernel.invokeFunction(\n",
              "            'suggestCharts', [key], {});\n",
              "      } catch (error) {\n",
              "        console.error('Error during call to suggestCharts:', error);\n",
              "      }\n",
              "      quickchartButtonEl.classList.remove('colab-df-spinner');\n",
              "      quickchartButtonEl.classList.add('colab-df-quickchart-complete');\n",
              "    }\n",
              "    (() => {\n",
              "      let quickchartButtonEl =\n",
              "        document.querySelector('#df-58abc1f6-c549-4e23-beca-41a914a571ed button');\n",
              "      quickchartButtonEl.style.display =\n",
              "        google.colab.kernel.accessAllowed ? 'block' : 'none';\n",
              "    })();\n",
              "  </script>\n",
              "</div>\n",
              "    </div>\n",
              "  </div>\n"
            ]
          },
          "metadata": {},
          "execution_count": 75
        }
      ]
    },
    {
      "cell_type": "markdown",
      "source": [
        "Using the descirbe function we can find the min and max value of each variables. Unfortunately, the data provider did not provide any description about the unit of each variable. From the value range I guess that Temperature is in degree Celsius, WindSpeed is in m/s and Humidity is actuall relative humidity with no unit and value range from 0% to 100%. However, the infomation is not enough to help determine if any value is an outlier in this data set.  "
      ],
      "metadata": {
        "id": "_T6SOTqGvZL3"
      }
    },
    {
      "cell_type": "markdown",
      "source": [
        "The IQR method is another way that could be used to find if there exist outliers which defines outliers as values greater then Q3(75%)+1.5*IQR and less then Q1(25%)-1.5*IQR."
      ],
      "metadata": {
        "id": "fxYWAvSLfa7b"
      }
    },
    {
      "cell_type": "code",
      "source": [
        "def find_outliers_iqr(column):\n",
        "  Q1 = column.quantile(0.25)\n",
        "  Q3 = column.quantile(0.75)\n",
        "  IQR = Q3 - Q1\n",
        "  lower_bound = Q1 - 1.5 * IQR\n",
        "  upper_bound = Q3 + 1.5 * IQR\n",
        "  outliers = column[(column < lower_bound) | (column > upper_bound)]\n",
        "  return outliers\n",
        "\n",
        "outlier_Temp = find_outliers_iqr(data[\"Temperature\"])\n",
        "outlier_Humid = find_outliers_iqr(data[\"Humidity\"])\n",
        "outlier_Wind = find_outliers_iqr(data[\"WindSpeed\"])\n",
        "outlier_Generaldiff = find_outliers_iqr(data[\"GeneralDiffuseFlows\"])\n",
        "outlier_Diff = find_outliers_iqr(data[\"DiffuseFlows\"])\n",
        "outlier_Power1 = find_outliers_iqr(data[\"PowerConsumption_Zone1\"])\n",
        "outlier_Power2 = find_outliers_iqr(data[\"PowerConsumption_Zone2\"])\n",
        "outlier_Power3 = find_outliers_iqr(data[\"PowerConsumption_Zone3\"])\n",
        "\n",
        "\n",
        "print(\"The outliers in column Temperature is\",\"\\n\",outlier_Temp,\"\\n\",\"The number of outliers occupy\",outlier_Temp.shape[0]/data.shape[0]*100,\"% of the data size\",\"\\n\",)\n",
        "print(\"The outliers in column Humidity is\",\"\\n\",outlier_Humid,\"\\n\",\"The number of outliers occupy\",outlier_Humid.shape[0]/data.shape[0]*100,\"% of the data size\",\"\\n\",)\n",
        "print(\"The outliers in column WindSpeed is\",\"\\n\",outlier_Wind,\"\\n\",\"The number of outliers occupy\",outlier_Wind.shape[0]/data.shape[0]*100,\"% of the data size\",\"\\n\",)\n",
        "print(\"The outliers in column GeneralDiffuseFlows is\",\"\\n\",outlier_Generaldiff,\"\\n\",\"The number of outliers occupy\",outlier_Generaldiff.shape[0]/data.shape[0]*100,\"% of the data size\",\"\\n\",)\n",
        "print(\"The outliers in column DiffuseFlows is\",\"\\n\",outlier_Diff,\"\\n\",\"The number of outliers occupy\",outlier_Diff.shape[0]/data.shape[0]*100,\"% of the data size\",\"\\n\",)\n",
        "print(\"The outliers in column PowerConsumption_Zone1 is\",\"\\n\",outlier_Power1,\"\\n\",\"The number of outliers occupy\",outlier_Power1.shape[0]/data.shape[0]*100,\"% of the data size\",\"\\n\",)\n",
        "print(\"The outliers in column PowerConsumption_Zone2 is\",\"\\n\",outlier_Power2,\"\\n\",\"The number of outliers occupy\",outlier_Power2.shape[0]/data.shape[0]*100,\"% of the data size\",\"\\n\",)\n",
        "print(\"The outliers in column PowerConsumption_Zone3 is\",\"\\n\",outlier_Power3,\"\\n\",\"The number of outliers occupy\",outlier_Power3.shape[0]/data.shape[0]*100,\"% of the data size\",\"\\n\",)"
      ],
      "metadata": {
        "colab": {
          "base_uri": "https://localhost:8080/"
        },
        "id": "15KvaIAneNw5",
        "outputId": "abab0282-2918-43fd-8c2e-ccb9eb08e126"
      },
      "execution_count": null,
      "outputs": [
        {
          "output_type": "stream",
          "name": "stdout",
          "text": [
            "The outliers in column Temperature is \n",
            " 27000    35.78\n",
            "27001    36.21\n",
            "27002    36.37\n",
            "27003    36.69\n",
            "27004    36.59\n",
            "         ...  \n",
            "31910    35.81\n",
            "32056    35.94\n",
            "32057    35.89\n",
            "32058    35.66\n",
            "32059    35.64\n",
            "Name: Temperature, Length: 142, dtype: float64 \n",
            " The number of outliers occupy 0.2709096459096459 % of the data size \n",
            "\n",
            "The outliers in column Humidity is \n",
            " 17968    23.52\n",
            "17969    23.66\n",
            "19088    21.96\n",
            "19089    20.92\n",
            "19090    20.62\n",
            "         ...  \n",
            "38116    14.80\n",
            "38117    19.21\n",
            "38118    20.21\n",
            "38119    21.64\n",
            "38120    22.61\n",
            "Name: Humidity, Length: 291, dtype: float64 \n",
            " The number of outliers occupy 0.5551739926739927 % of the data size \n",
            "\n",
            "The outliers in column WindSpeed is \n",
            " Series([], Name: WindSpeed, dtype: float64) \n",
            " The number of outliers occupy 0.0 % of the data size \n",
            "\n",
            "The outliers in column GeneralDiffuseFlows is \n",
            " 6411     803.0\n",
            "7422     810.0\n",
            "7423     877.0\n",
            "7424     845.0\n",
            "7425     818.0\n",
            "         ...  \n",
            "39539    819.0\n",
            "40685    818.0\n",
            "40971    822.0\n",
            "43999    841.0\n",
            "44000    837.0\n",
            "Name: GeneralDiffuseFlows, Length: 2315, dtype: float64 \n",
            " The number of outliers occupy 4.416590354090355 % of the data size \n",
            "\n",
            "The outliers in column DiffuseFlows is \n",
            " 242      253.4\n",
            "385      256.6\n",
            "386      257.7\n",
            "528      254.4\n",
            "529      281.1\n",
            "         ...  \n",
            "50044    283.7\n",
            "50202    288.4\n",
            "50932    252.8\n",
            "51783    253.5\n",
            "51921    265.4\n",
            "Name: DiffuseFlows, Length: 4571, dtype: float64 \n",
            " The number of outliers occupy 8.720619658119658 % of the data size \n",
            "\n",
            "The outliers in column PowerConsumption_Zone1 is \n",
            " Series([], Name: PowerConsumption_Zone1, dtype: float64) \n",
            " The number of outliers occupy 0.0 % of the data size \n",
            "\n",
            "The outliers in column PowerConsumption_Zone2 is \n",
            " 29493    36645.56962\n",
            "29494    37408.86076\n",
            "30935    36429.56705\n",
            "30936    36482.78775\n",
            "30937    36353.53749\n",
            "30938    36437.17001\n",
            "30939    36391.55227\n",
            "Name: PowerConsumption_Zone2, dtype: float64 \n",
            " The number of outliers occupy 0.013354700854700856 % of the data size \n",
            "\n",
            "The outliers in column PowerConsumption_Zone3 is \n",
            " 26183    35777.07113\n",
            "26184    36560.33473\n",
            "26185    36759.16318\n",
            "26186    36921.84100\n",
            "26187    36819.41423\n",
            "            ...     \n",
            "33816    35805.89342\n",
            "33817    35793.85580\n",
            "33818    35547.08464\n",
            "33819    35204.01254\n",
            "33820    35089.65517\n",
            "Name: PowerConsumption_Zone3, Length: 1191, dtype: float64 \n",
            " The number of outliers occupy 2.2722069597069594 % of the data size \n",
            "\n"
          ]
        }
      ]
    },
    {
      "cell_type": "markdown",
      "source": [
        "The above code shows the outlier of each column. According to the definition, there is no outlier in WindSpeed and PowerConsumption_Zone1. For Temperature, Humidity, and PowerConsumption_Zone2 the IQR method seems to perform fine where less then 1% of data are labeled as outliers. However, for GeneralDiffuseFlows, DiffuseFlows, and PowerConsumption_Zone3 over 2% or more data are labeled as outliers. In the worst case, more then 8% of DiffuseFlows data are labeled as outliers using IQR method. That is, for these 3 variables, using IQR method to detect outliers may not be a good way.      "
      ],
      "metadata": {
        "id": "SiSIulECoYWd"
      }
    },
    {
      "cell_type": "markdown",
      "source": [
        "Another way to determine outliers is to see if there is any studden impulse in the data since based on the physical properties of each variables, the value should change continuously and smoothly. Define a \"sudden change\" as:  (X_current-X_previous)/X_current>0.5."
      ],
      "metadata": {
        "id": "8hX8LgmQi4QM"
      }
    },
    {
      "cell_type": "code",
      "source": [
        "def find_outliers_smooth(column):\n",
        "  outliers=pd.Series([], dtype=column.dtype)\n",
        "  previous_value = None\n",
        "  for value in column:\n",
        "    if previous_value is not None and (value - previous_value)/value>0.5:\n",
        "      outliers=pd.concat([outliers, pd.Series(value)])\n",
        "    previous_value = value\n",
        "  return outliers\n",
        "\n",
        "print(\"The outliers in Temperature is:\",\"\\n\",find_outliers_smooth(data[\"Temperature\"]),\"\\n\")\n",
        "print(\"The outliers in Humidity is:\",\"\\n\",find_outliers_smooth(data[\"Humidity\"]),\"\\n\")\n",
        "print(\"The outliers in WindSpeed is:\",\"\\n\",find_outliers_smooth(data[\"WindSpeed\"]),\"\\n\")\n",
        "print(\"The outliers in GeneralDiffuseFlows is:\",\"\\n\",find_outliers_smooth(data[\"GeneralDiffuseFlows\"]),\"\\n\")\n",
        "print(\"The outliers in DiffuseFlows is:\",\"\\n\",find_outliers_smooth(data[\"DiffuseFlows\"]),\"\\n\")\n",
        "print(\"The outliers in PowerConsumption_Zone1 is:\",\"\\n\",find_outliers_smooth(data[\"PowerConsumption_Zone1\"]),\"\\n\")\n",
        "print(\"The outliers in PowerConsumption_Zone2 is:\",\"\\n\",find_outliers_smooth(data[\"PowerConsumption_Zone2\"]),\"\\n\")\n",
        "print(\"The outliers in PowerConsumption_Zone3 is:\",\"\\n\",find_outliers_smooth(data[\"PowerConsumption_Zone3\"]),\"\\n\")"
      ],
      "metadata": {
        "colab": {
          "base_uri": "https://localhost:8080/"
        },
        "id": "BoHSNT7gk0Oc",
        "outputId": "924347b6-435e-46a3-9631-3b8c853c41f0"
      },
      "execution_count": null,
      "outputs": [
        {
          "output_type": "stream",
          "name": "stdout",
          "text": [
            "The outliers in Temperature is: \n",
            " Series([], dtype: float64) \n",
            "\n",
            "The outliers in Humidity is: \n",
            " Series([], dtype: float64) \n",
            "\n",
            "The outliers in WindSpeed is: \n",
            " 0    2.660\n",
            "0    2.287\n",
            "0    4.708\n",
            "0    0.295\n",
            "0    2.981\n",
            "     ...  \n",
            "0    4.917\n",
            "0    2.766\n",
            "0    2.442\n",
            "0    2.853\n",
            "0    3.908\n",
            "Length: 106, dtype: float64 \n",
            "\n",
            "The outliers in GeneralDiffuseFlows is: \n",
            " 0     0.099\n",
            "0     0.187\n",
            "0     0.955\n",
            "0     3.188\n",
            "0     6.643\n",
            "      ...  \n",
            "0     3.126\n",
            "0     6.969\n",
            "0    14.120\n",
            "0    52.900\n",
            "0     0.048\n",
            "Length: 2586, dtype: float64 \n",
            "\n",
            "The outliers in DiffuseFlows is: \n",
            " 0    0.949\n",
            "0    3.134\n",
            "0    6.494\n",
            "0    0.890\n",
            "0    2.867\n",
            "     ...  \n",
            "0    6.638\n",
            "0    0.111\n",
            "0    0.968\n",
            "0    3.060\n",
            "0    6.765\n",
            "Length: 1866, dtype: float64 \n",
            "\n",
            "The outliers in PowerConsumption_Zone1 is: \n",
            " Series([], dtype: float64) \n",
            "\n",
            "The outliers in PowerConsumption_Zone2 is: \n",
            " Series([], dtype: float64) \n",
            "\n",
            "The outliers in PowerConsumption_Zone3 is: \n",
            " Series([], dtype: float64) \n",
            "\n"
          ]
        }
      ]
    },
    {
      "cell_type": "markdown",
      "source": [
        "From the code above we find that there is no outliers in Temperature, Humidity, and Zone 1, 2 and 3 Power Consumption. Moreover, since the time window is ten minutes in the data set and wind condition can certainly fluctuate under a high frequency in 10 minutes,  the outlier detected using this function on Wind Speed, General Diffuse Flows, and Diffuse Flows is not accurate.\n"
      ],
      "metadata": {
        "id": "ya9ucBfSMi2R"
      }
    },
    {
      "cell_type": "markdown",
      "source": [
        "So far we had introduced 3 ways to find the outliers in this dataset. Since this dataste records real life physical condition, using the IQR method may be less proper then physical limit and smooth method. Futhermore, all 3 method has its limitarion and cannot detect the outliers in variable GeneralDiffuseFlows and DiffuseFlows. Therefore, I decide to keep the original data without any modification for further analysis.  "
      ],
      "metadata": {
        "id": "cGka_UIxO2Ex"
      }
    },
    {
      "cell_type": "markdown",
      "source": [
        "**Manually make the data \"dirty\"**"
      ],
      "metadata": {
        "id": "F4eZTt5tULFs"
      }
    },
    {
      "cell_type": "code",
      "source": [
        "data_original=data.copy()\n",
        "data.iloc[[99,350,1314],1]=np.nan\n",
        "data.iloc[[200,2370,22214],2]=np.nan\n",
        "data.iloc[[9999,34450,46314],3]=np.nan\n",
        "data.iloc[[43453,31250,13714],4]=np.nan\n",
        "data.iloc[[3399,20350,21314],5]=np.nan\n",
        "data.iloc[[7,4444,9856],6]=np.nan\n",
        "data_modified=data\n",
        "print(data_modified.isnull().any(),\"\\n\")\n",
        "print(data_original.isnull().any())"
      ],
      "metadata": {
        "colab": {
          "base_uri": "https://localhost:8080/"
        },
        "id": "_-h0SgKcUQyx",
        "outputId": "9591be6a-8d60-435b-f98a-a894fcd6a76d"
      },
      "execution_count": null,
      "outputs": [
        {
          "output_type": "stream",
          "name": "stdout",
          "text": [
            "Datetime                  False\n",
            "Temperature                True\n",
            "Humidity                   True\n",
            "WindSpeed                  True\n",
            "GeneralDiffuseFlows        True\n",
            "DiffuseFlows               True\n",
            "PowerConsumption_Zone1     True\n",
            "PowerConsumption_Zone2    False\n",
            "PowerConsumption_Zone3    False\n",
            "dtype: bool \n",
            "\n",
            "Datetime                  False\n",
            "Temperature               False\n",
            "Humidity                  False\n",
            "WindSpeed                 False\n",
            "GeneralDiffuseFlows       False\n",
            "DiffuseFlows              False\n",
            "PowerConsumption_Zone1    False\n",
            "PowerConsumption_Zone2    False\n",
            "PowerConsumption_Zone3    False\n",
            "dtype: bool\n"
          ]
        }
      ]
    },
    {
      "cell_type": "markdown",
      "source": [
        "**Handling missing data**"
      ],
      "metadata": {
        "id": "rE-5AJSxROTL"
      }
    },
    {
      "cell_type": "markdown",
      "source": [
        "First, try to handle missing data by replacing them with the mean value of the entire dataset  (ignoring missing values)."
      ],
      "metadata": {
        "id": "Nql4tzKtdNT-"
      }
    },
    {
      "cell_type": "code",
      "source": [
        "data_allMean=data.copy()\n",
        "data_allMean.loc[data_modified[\"Temperature\"].isna(),\"Temperature\"]=data_modified[\"Temperature\"].mean()\n",
        "data_allMean.loc[data_modified[\"Humidity\"].isna(),\"Humidity\"]=data_modified[\"Humidity\"].mean()\n",
        "data_allMean.loc[data_modified[\"WindSpeed\"].isna(),\"WindSpeed\"]=data_modified[\"WindSpeed\"].mean()\n",
        "data_allMean.loc[data_modified[\"GeneralDiffuseFlows\"].isna(),\"GeneralDiffuseFlows\"]=data_modified[\"GeneralDiffuseFlows\"].mean()\n",
        "data_allMean.loc[data_modified[\"DiffuseFlows\"].isna(),\"DiffuseFlows\"]=data_modified[\"DiffuseFlows\"].mean()\n",
        "data_allMean.loc[data_modified[\"PowerConsumption_Zone1\"].isna(),\"PowerConsumption_Zone1\"]=data_modified[\"PowerConsumption_Zone1\"].mean()"
      ],
      "metadata": {
        "id": "pCDAxJkWVqwN"
      },
      "execution_count": null,
      "outputs": []
    },
    {
      "cell_type": "markdown",
      "source": [
        "Next, we could also try replacing the missing data with median"
      ],
      "metadata": {
        "id": "u8SfrK94iUZh"
      }
    },
    {
      "cell_type": "code",
      "source": [
        "data_median=data.copy()\n",
        "data_median.loc[data_modified[\"Temperature\"].isna(),\"Temperature\"]=data_modified[\"Temperature\"].quantile(0.5)\n",
        "data_median.loc[data_modified[\"Humidity\"].isna(),\"Humidity\"]=data_modified[\"Humidity\"].quantile(0.5)\n",
        "data_median.loc[data_modified[\"WindSpeed\"].isna(),\"WindSpeed\"]=data_modified[\"WindSpeed\"].quantile(0.5)\n",
        "data_median.loc[data_modified[\"GeneralDiffuseFlows\"].isna(),\"GeneralDiffuseFlows\"]=data_modified[\"GeneralDiffuseFlows\"].quantile(0.5)\n",
        "data_median.loc[data_modified[\"DiffuseFlows\"].isna(),\"DiffuseFlows\"]=data_modified[\"DiffuseFlows\"].quantile(0.5)\n",
        "data_median.loc[data_modified[\"PowerConsumption_Zone1\"].isna(),\"PowerConsumption_Zone1\"]=data_modified[\"PowerConsumption_Zone1\"].quantile(0.5)"
      ],
      "metadata": {
        "id": "EUqR56coijed"
      },
      "execution_count": null,
      "outputs": []
    },
    {
      "cell_type": "markdown",
      "source": [
        "Since the values should be smooth an continuous, we could try linear interpolation to fill the data."
      ],
      "metadata": {
        "id": "p-KXwTlvd2uP"
      }
    },
    {
      "cell_type": "code",
      "source": [
        "data_linear=data.copy()\n",
        "data_linear= data_modified.interpolate()"
      ],
      "metadata": {
        "id": "QFfCV-OpePWu"
      },
      "execution_count": null,
      "outputs": []
    },
    {
      "cell_type": "markdown",
      "source": [
        "**Calculate and compare the accuracy of each method.**"
      ],
      "metadata": {
        "id": "ruxADHmkdEUA"
      }
    },
    {
      "cell_type": "markdown",
      "source": [
        "Define the accuracy of the predicted missing data as below"
      ],
      "metadata": {
        "id": "qlwohAjdaCfu"
      }
    },
    {
      "cell_type": "code",
      "source": [
        "def accuracy(mod_data,org_data,data,feature):\n",
        "  return (mod_data.loc[data[feature].isna(),feature]-org_data.loc[data[feature].isna(),feature])/org_data.loc[data[feature].isna(),feature]"
      ],
      "metadata": {
        "id": "29-HIJiraMNZ"
      },
      "execution_count": null,
      "outputs": []
    },
    {
      "cell_type": "markdown",
      "source": [
        "The accuracy of mean method is:"
      ],
      "metadata": {
        "id": "KodFqahjgJda"
      }
    },
    {
      "cell_type": "code",
      "source": [
        "print(\"The accuracy using the mean of the enire data in Temperature is:\",\"\\n\",accuracy(data_allMean,data_original,data_modified,\"Temperature\"),\"\\n\")\n",
        "print(\"The accuracy using the mean of the enire data in Humidity is:\",\"\\n\",accuracy(data_allMean,data_original,data_modified,\"Humidity\"),\"\\n\")\n",
        "print(\"The accuracy using the mean of the enire data in WindSpeed is:\",\"\\n\",accuracy(data_allMean,data_original,data_modified,\"WindSpeed\"),\"\\n\")\n",
        "print(\"The accuracy using the mean of the enire data in GeneralDiffuseFlows is:\",\"\\n\",accuracy(data_allMean,data_original,data_modified,\"GeneralDiffuseFlows\"),\"\\n\")\n",
        "print(\"The accuracy using the mean of the enire data in DiffuseFlows is:\",\"\\n\",accuracy(data_allMean,data_original,data_modified,\"DiffuseFlows\"),\"\\n\")\n",
        "print(\"The accuracy using the mean of the enire data in PowerConsumption_Zone1 is:\",\"\\n\",accuracy(data_allMean,data_original,data_modified,\"PowerConsumption_Zone1\"),\"\\n\")"
      ],
      "metadata": {
        "colab": {
          "base_uri": "https://localhost:8080/"
        },
        "id": "4U3ViTDQa4oJ",
        "outputId": "5a8d976e-aad0-45b3-dcb7-12085ddb89f8"
      },
      "execution_count": null,
      "outputs": [
        {
          "output_type": "stream",
          "name": "stdout",
          "text": [
            "The accuracy using the mean of the enire data in Temperature is: \n",
            " 99      0.211222\n",
            "350     0.405850\n",
            "1314    0.286612\n",
            "Name: Temperature, dtype: float64 \n",
            "\n",
            "The accuracy using the mean of the enire data in Humidity is: \n",
            " 200     -0.212700\n",
            "2370     0.106304\n",
            "22214   -0.208133\n",
            "Name: Humidity, dtype: float64 \n",
            "\n",
            "The accuracy using the mean of the enire data in WindSpeed is: \n",
            " 9999    -0.602088\n",
            "34450   -0.601440\n",
            "46314   -0.601683\n",
            "Name: WindSpeed, dtype: float64 \n",
            "\n",
            "The accuracy using the mean of the enire data in GeneralDiffuseFlows is: \n",
            " 13714    6299.234720\n",
            "31250    2646.924737\n",
            "43453      12.297439\n",
            "Name: GeneralDiffuseFlows, dtype: float64 \n",
            "\n",
            "The accuracy using the mean of the enire data in DiffuseFlows is: \n",
            " 3399      -0.874175\n",
            "20350     -0.663149\n",
            "21314    720.314331\n",
            "Name: DiffuseFlows, dtype: float64 \n",
            "\n",
            "The accuracy using the mean of the enire data in PowerConsumption_Zone1 is: \n",
            " 7       0.271116\n",
            "4444   -0.250115\n",
            "9856    0.030556\n",
            "Name: PowerConsumption_Zone1, dtype: float64 \n",
            "\n"
          ]
        }
      ]
    },
    {
      "cell_type": "markdown",
      "source": [
        "The accuracy of median method is:"
      ],
      "metadata": {
        "id": "ok3IkT0OjA3_"
      }
    },
    {
      "cell_type": "code",
      "source": [
        "print(\"The accuracy using the median of the enire data in Temperature is:\",\"\\n\",accuracy(data_median,data_original,data_modified,\"Temperature\"),\"\\n\")\n",
        "print(\"The accuracy using the median of the enire data in Humidity is:\",\"\\n\",accuracy(data_median,data_original,data_modified,\"Humidity\"),\"\\n\")\n",
        "print(\"The accuracy using the median of the enire data in WindSpeed is:\",\"\\n\",accuracy(data_median,data_original,data_modified,\"WindSpeed\"),\"\\n\")\n",
        "print(\"The accuracy using the median of the enire data in GeneralDiffuseFlows is:\",\"\\n\",accuracy(data_median,data_original,data_modified,\"GeneralDiffuseFlows\"),\"\\n\")\n",
        "print(\"The accuracy using the median of the enire data in DiffuseFlows is:\",\"\\n\",accuracy(data_median,data_original,data_modified,\"DiffuseFlows\"),\"\\n\")\n",
        "print(\"The accuracy using the median of the enire data in PowerConsumption_Zone1 is:\",\"\\n\",accuracy(data_median,data_original,data_modified,\"PowerConsumption_Zone1\"),\"\\n\")"
      ],
      "metadata": {
        "colab": {
          "base_uri": "https://localhost:8080/"
        },
        "id": "p1Z1hrKgjCjp",
        "outputId": "6b0b571d-4ca5-4f3f-d5b8-8e461b517727"
      },
      "execution_count": null,
      "outputs": [
        {
          "output_type": "stream",
          "name": "stdout",
          "text": [
            "The accuracy using the median of the enire data in Temperature is: \n",
            " 99      0.209272\n",
            "350     0.403587\n",
            "1314    0.284542\n",
            "Name: Temperature, dtype: float64 \n",
            "\n",
            "The accuracy using the median of the enire data in Humidity is: \n",
            " 200     -0.194233\n",
            "2370     0.132253\n",
            "22214   -0.189559\n",
            "Name: Humidity, dtype: float64 \n",
            "\n",
            "The accuracy using the median of the enire data in WindSpeed is: \n",
            " 9999    -0.982535\n",
            "34450   -0.982506\n",
            "46314   -0.982517\n",
            "Name: WindSpeed, dtype: float64 \n",
            "\n",
            "The accuracy using the median of the enire data in GeneralDiffuseFlows is: \n",
            " 13714    172.655172\n",
            "31250     71.985507\n",
            "43453     -0.633479\n",
            "Name: GeneralDiffuseFlows, dtype: float64 \n",
            "\n",
            "The accuracy using the median of the enire data in DiffuseFlows is: \n",
            " 3399     -0.992531\n",
            "20350    -0.980004\n",
            "21314    41.817308\n",
            "Name: DiffuseFlows, dtype: float64 \n",
            "\n",
            "The accuracy using the median of the enire data in PowerConsumption_Zone1 is: \n",
            " 7       0.268012\n",
            "4444   -0.251946\n",
            "9856    0.028040\n",
            "Name: PowerConsumption_Zone1, dtype: float64 \n",
            "\n"
          ]
        }
      ]
    },
    {
      "cell_type": "markdown",
      "source": [
        "The accuracy of linear interpolate method is:"
      ],
      "metadata": {
        "id": "rpdrWeQngQnq"
      }
    },
    {
      "cell_type": "code",
      "source": [
        "print(\"The accuracy using the linear interpolate in Temperature is:\",\"\\n\",accuracy(data_linear,data_original,data_modified,\"Temperature\"),\"\\n\")\n",
        "print(\"The accuracy using the linear interpolate in Humidity is:\",\"\\n\",accuracy(data_linear,data_original,data_modified,\"Humidity\"),\"\\n\")\n",
        "print(\"The accuracy using the linear interpolate in WindSpeed is:\",\"\\n\",accuracy(data_linear,data_original,data_modified,\"WindSpeed\"),\"\\n\")\n",
        "print(\"The accuracy using the linear interpolatea in GeneralDiffuseFlows is:\",\"\\n\",accuracy(data_linear,data_original,data_modified,\"GeneralDiffuseFlows\"),\"\\n\")\n",
        "print(\"The accuracy using the linear interpolate in DiffuseFlows is:\",\"\\n\",accuracy(data_linear,data_original,data_modified,\"DiffuseFlows\"),\"\\n\")\n",
        "print(\"The accuracy using the linear interpolate in PowerConsumption_Zone1 is:\",\"\\n\",accuracy(data_linear,data_original,data_modified,\"PowerConsumption_Zone1\"),\"\\n\")"
      ],
      "metadata": {
        "colab": {
          "base_uri": "https://localhost:8080/"
        },
        "id": "U29arVusgGUX",
        "outputId": "6021bd08-78c2-480d-a472-20044c722bc6"
      },
      "execution_count": null,
      "outputs": [
        {
          "output_type": "stream",
          "name": "stdout",
          "text": [
            "The accuracy using the linear interpolate in Temperature is: \n",
            " 99     -0.001288\n",
            "350    -0.003737\n",
            "1314   -0.001710\n",
            "Name: Temperature, dtype: float64 \n",
            "\n",
            "The accuracy using the linear interpolate in Humidity is: \n",
            " 200      0.001153\n",
            "2370     0.026904\n",
            "22214   -0.002320\n",
            "Name: Humidity, dtype: float64 \n",
            "\n",
            "The accuracy using the linear interpolate in WindSpeed is: \n",
            " 9999    -2.030869e-04\n",
            "34450    3.051261e-04\n",
            "46314    1.805608e-16\n",
            "Name: WindSpeed, dtype: float64 \n",
            "\n",
            "The accuracy using the linear interpolatea in GeneralDiffuseFlows is: \n",
            " 13714    0.758621\n",
            "31250    0.065217\n",
            "43453    0.442831\n",
            "Name: GeneralDiffuseFlows, dtype: float64 \n",
            "\n",
            "The accuracy using the linear interpolate in DiffuseFlows is: \n",
            " 3399    -0.003858\n",
            "20350   -0.094522\n",
            "21314    0.302885\n",
            "Name: DiffuseFlows, dtype: float64 \n",
            "\n",
            "The accuracy using the linear interpolate in PowerConsumption_Zone1 is: \n",
            " 7      -0.002268\n",
            "4444   -0.002465\n",
            "9856   -0.001171\n",
            "Name: PowerConsumption_Zone1, dtype: float64 \n",
            "\n"
          ]
        }
      ]
    },
    {
      "cell_type": "markdown",
      "source": [
        "As a result we can see that using linear interpolation to predict missing values is better that replacing them by the mean or median value. The statement is true for all varaiables include Temperature, Humidity, and so on."
      ],
      "metadata": {
        "id": "qZ6Fn2zNhFjv"
      }
    },
    {
      "cell_type": "markdown",
      "source": [
        "**Conclusion**"
      ],
      "metadata": {
        "id": "QDSLZO8Ghnxv"
      }
    },
    {
      "cell_type": "markdown",
      "source": [
        "In this homework we've discussed using 3 ways to find the outliers in our data. We show the pros and cons of each method and in the end descide to keep the data as it was for future analysis. All 3 method we tried has its limitation and other methods could be tried and investigated for future studies.\n"
      ],
      "metadata": {
        "id": "Nbwl8O7Rhq28"
      }
    },
    {
      "cell_type": "markdown",
      "source": [
        "On top of that, we manually erase some data points in our data and tried replacing them by mean, median and linear interpolation. In short we discover that linear interpolation is the best way among all 3 methods to deal with missing values in this dataset wheather which varaible we are trying to replace. For future studies of filling out missing values we could try implementing moving average method, or sine the data set is a time serie data across, we could try minning the historical weather data around that specific time where the value is missing on the internet and replace it. The method requires data minning skills but should be the most accurate.     "
      ],
      "metadata": {
        "id": "n44jxwZtmk-P"
      }
    }
  ]
}